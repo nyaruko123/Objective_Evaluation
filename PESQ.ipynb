{
 "cells": [
  {
   "cell_type": "code",
   "execution_count": 1,
   "id": "b4ace97f-59aa-4d42-bd22-0832d3080d95",
   "metadata": {},
   "outputs": [
    {
     "name": "stdout",
     "output_type": "stream",
     "text": [
      "Collecting pesq\n",
      "  Downloading pesq-0.0.4.tar.gz (38 kB)\n",
      "  Preparing metadata (setup.py) ... \u001b[?25ldone\n",
      "\u001b[?25hBuilding wheels for collected packages: pesq\n",
      "  Building wheel for pesq (setup.py) ... \u001b[?25ldone\n",
      "\u001b[?25h  Created wheel for pesq: filename=pesq-0.0.4-cp38-cp38-linux_x86_64.whl size=330075 sha256=29ae206bcadd38dbcbbe14623f3dac40e061682a762c89dc786dc0dd91d817ab\n",
      "  Stored in directory: /home/sun/.cache/pip/wheels/be/50/3f/1e20ce10f2e57d3481b488245b0f05f013602dd6dca0a67d18\n",
      "Successfully built pesq\n",
      "Installing collected packages: pesq\n",
      "Successfully installed pesq-0.0.4\n",
      "Note: you may need to restart the kernel to use updated packages.\n"
     ]
    }
   ],
   "source": [
    "pip install pesq"
   ]
  },
  {
   "cell_type": "code",
   "execution_count": 1,
   "id": "e87b602a-20c8-4266-a49b-4fcf29b82fd4",
   "metadata": {},
   "outputs": [],
   "source": [
    "from pesq import pesq\n",
    "import librosa\n",
    "import os"
   ]
  },
  {
   "cell_type": "code",
   "execution_count": 2,
   "id": "f351e16f-63f5-4e06-b77d-a0ed8ee15d3d",
   "metadata": {},
   "outputs": [],
   "source": [
    "# 加载音频文件\n",
    "def load_wav(wavfile, sr=16000):\n",
    "    \"\"\"\n",
    "    加载音频文件并返回音频信号\n",
    "    \"\"\"\n",
    "    wav, _ = librosa.load(wavfile, sr=sr, mono=True)\n",
    "    return wav"
   ]
  },
  {
   "cell_type": "code",
   "execution_count": 3,
   "id": "63f352a1-a311-487c-98d1-256f6ddfbd0f",
   "metadata": {},
   "outputs": [],
   "source": [
    "# 计算 PESQ\n",
    "def calculate_pesq(reference_signal, generated_signal, sr=16000):\n",
    "    \"\"\"\n",
    "    计算 PESQ 分数\n",
    "    \"\"\"\n",
    "    # 计算 PESQ 分数，wb 表示宽带\n",
    "    return pesq(sr, reference_signal, generated_signal, 'wb')\n"
   ]
  },
  {
   "cell_type": "code",
   "execution_count": 4,
   "id": "e5acc6ef-6127-46f7-8974-3bcbc29021a6",
   "metadata": {},
   "outputs": [],
   "source": [
    "# 主流程函数\n",
    "def process_pesq(mapping_file_path, original_base_path, generated_base_path):\n",
    "    \"\"\"\n",
    "    从映射文件中提取源语音和转换语音，计算 PESQ 分数\n",
    "    \"\"\"\n",
    "    total_pesq = 0\n",
    "    count = 0\n",
    "\n",
    "    # 读取映射文件\n",
    "    with open(mapping_file_path, 'r') as f:\n",
    "        for line in f:\n",
    "            parts = line.strip().split('|')\n",
    "\n",
    "            # 检查是否有足够的字段\n",
    "            if len(parts) != 3:\n",
    "                print(f\"Invalid line format: {line}\")\n",
    "                continue\n",
    "\n",
    "            generated_wav, content_wav, _ = parts\n",
    "\n",
    "            # 构建音频文件路径\n",
    "            original_wav_path = os.path.join(original_base_path, content_wav)\n",
    "            generated_wav_path = os.path.join(generated_base_path, generated_wav)\n",
    "\n",
    "            # 检查文件是否存在\n",
    "            if not os.path.exists(original_wav_path) or not os.path.exists(generated_wav_path):\n",
    "                print(f\"文件 {original_wav_path} 或 {generated_wav_path} 不存在，跳过此对。\")\n",
    "                continue\n",
    "\n",
    "            # 加载源语音和生成语音\n",
    "            reference_signal = load_wav(original_wav_path)\n",
    "            generated_signal = load_wav(generated_wav_path)\n",
    "\n",
    "            # 计算当前文件的 PESQ 分数\n",
    "            pesq_score = calculate_pesq(reference_signal, generated_signal)\n",
    "            print(f\"PESQ Score for {generated_wav}: {pesq_score}\")\n",
    "\n",
    "            total_pesq += pesq_score\n",
    "            count += 1\n",
    "\n",
    "    # 计算平均 PESQ 分数\n",
    "    avg_pesq = total_pesq / count if count > 0 else float('inf')\n",
    "    print(f\"\\nAverage PESQ Score: {avg_pesq}\")"
   ]
  },
  {
   "cell_type": "code",
   "execution_count": 9,
   "id": "7579d821-4fe0-46ff-96a9-75edd9d37539",
   "metadata": {},
   "outputs": [],
   "source": [
    "# 示例用法\n",
    "mapping_file_path = '/home/sun/FreeVC/convert_S.txt'  # 更新后的转换文件路径\n",
    "original_base_path = '/home/sun/FreeVC/outputs/wav_o'  # 原始音频目录\n",
    "generated_base_path = '/home/sun/FreeVC/outputs/starganvc_test'  # 生成音频目录"
   ]
  },
  {
   "cell_type": "code",
   "execution_count": 10,
   "id": "2732dc83-6a1b-4895-a104-f34939a961c8",
   "metadata": {
    "scrolled": true
   },
   "outputs": [
    {
     "name": "stdout",
     "output_type": "stream",
     "text": [
      "PESQ Score for WTM1_S.wav: 1.06428861618042\n",
      "PESQ Score for WTM2_S.wav: 1.0578854084014893\n",
      "PESQ Score for WTM3_S.wav: 1.04793119430542\n",
      "PESQ Score for WTM4_S.wav: 1.0294458866119385\n",
      "PESQ Score for WTM5_S.wav: 1.0323786735534668\n",
      "PESQ Score for WTM6_S.wav: 1.0340219736099243\n",
      "PESQ Score for WTM7_S.wav: 1.0269739627838135\n",
      "PESQ Score for WTM8_S.wav: 1.045817255973816\n",
      "PESQ Score for WTM9_S.wav: 1.036432147026062\n",
      "PESQ Score for WTM10_S.wav: 1.0689808130264282\n",
      "PESQ Score for WTM11_S.wav: 1.0481528043746948\n",
      "PESQ Score for WTM12_S.wav: 1.0387734174728394\n",
      "PESQ Score for MTW1_S.wav: 1.1336628198623657\n",
      "PESQ Score for MTW2_S.wav: 1.0877575874328613\n",
      "PESQ Score for MTW3_S.wav: 1.0517640113830566\n",
      "PESQ Score for MTW4_S.wav: 1.038155436515808\n",
      "PESQ Score for MTW5_S.wav: 1.0850859880447388\n",
      "PESQ Score for MTW6_S.wav: 1.0783028602600098\n",
      "PESQ Score for MTW7_S.wav: 1.058345079421997\n",
      "PESQ Score for MTW8_S.wav: 1.0892462730407715\n",
      "PESQ Score for MTW9_S.wav: 1.0707465410232544\n",
      "PESQ Score for MTW10_S.wav: 1.0309202671051025\n",
      "PESQ Score for MTW11_S.wav: 1.043877363204956\n",
      "PESQ Score for MTW12_S.wav: 1.050072193145752\n",
      "PESQ Score for WTW1_S.wav: 1.2429044246673584\n",
      "PESQ Score for WTW2_S.wav: 1.2429356575012207\n",
      "PESQ Score for WTW3_S.wav: 1.2165718078613281\n",
      "PESQ Score for WTW4_S.wav: 1.0351824760437012\n",
      "PESQ Score for WTW5_S.wav: 1.041379690170288\n",
      "PESQ Score for WTW6_S.wav: 1.0720163583755493\n",
      "PESQ Score for WTW7_S.wav: 1.0238250494003296\n",
      "PESQ Score for WTW8_S.wav: 1.05343496799469\n",
      "PESQ Score for WTW9_S.wav: 1.29803466796875\n",
      "PESQ Score for WTW10_S.wav: 1.057626485824585\n",
      "PESQ Score for WTW11_S.wav: 1.0717978477478027\n",
      "PESQ Score for WTW12_S.wav: 1.0850332975387573\n",
      "PESQ Score for MTM1_S.wav: 1.0916091203689575\n",
      "PESQ Score for MTM2_S.wav: 1.3676899671554565\n",
      "PESQ Score for MTM3_S.wav: 1.088028073310852\n",
      "PESQ Score for MTM4_S.wav: 1.2508189678192139\n",
      "PESQ Score for MTM5_S.wav: 1.1812894344329834\n",
      "PESQ Score for MTM6_S.wav: 1.07728910446167\n",
      "PESQ Score for MTM7_S.wav: 1.5113722085952759\n",
      "PESQ Score for MTM8_S.wav: 1.1332604885101318\n",
      "PESQ Score for MTM9_S.wav: 1.1052827835083008\n",
      "PESQ Score for MTM10_S.wav: 1.361007571220398\n",
      "PESQ Score for MTM11_S.wav: 1.1663053035736084\n",
      "PESQ Score for MTM12_S.wav: 1.13726007938385\n",
      "Invalid line format: \n",
      "\n",
      "\n",
      "Average PESQ Score: 1.1096036334832509\n"
     ]
    }
   ],
   "source": [
    "process_pesq(mapping_file_path, original_base_path, generated_base_path)"
   ]
  },
  {
   "cell_type": "code",
   "execution_count": null,
   "id": "6d08818b-4b29-49aa-b7d9-3b9b9bf73b0e",
   "metadata": {},
   "outputs": [],
   "source": []
  }
 ],
 "metadata": {
  "kernelspec": {
   "display_name": "FreeVC",
   "language": "python",
   "name": "freevc"
  },
  "language_info": {
   "codemirror_mode": {
    "name": "ipython",
    "version": 3
   },
   "file_extension": ".py",
   "mimetype": "text/x-python",
   "name": "python",
   "nbconvert_exporter": "python",
   "pygments_lexer": "ipython3",
   "version": "3.8.19"
  }
 },
 "nbformat": 4,
 "nbformat_minor": 5
}
