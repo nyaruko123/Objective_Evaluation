{
 "cells": [
  {
   "cell_type": "code",
   "execution_count": 1,
   "id": "224cd933-0847-47c6-8f58-c804ad3e4ff8",
   "metadata": {},
   "outputs": [
    {
     "name": "stdout",
     "output_type": "stream",
     "text": [
      "Collecting transformers\n",
      "  Downloading transformers-4.46.0-py3-none-any.whl.metadata (44 kB)\n",
      "Collecting datasets\n",
      "  Downloading datasets-3.0.2-py3-none-any.whl.metadata (20 kB)\n",
      "Collecting jiwer\n",
      "  Downloading jiwer-3.0.4-py3-none-any.whl.metadata (2.6 kB)\n",
      "Requirement already satisfied: filelock in /home/sun/anaconda3/envs/FreeVC/lib/python3.8/site-packages (from transformers) (3.13.1)\n",
      "Collecting huggingface-hub<1.0,>=0.23.2 (from transformers)\n",
      "  Downloading huggingface_hub-0.26.1-py3-none-any.whl.metadata (13 kB)\n",
      "Requirement already satisfied: numpy>=1.17 in /home/sun/anaconda3/envs/FreeVC/lib/python3.8/site-packages (from transformers) (1.24.3)\n",
      "Requirement already satisfied: packaging>=20.0 in /home/sun/anaconda3/envs/FreeVC/lib/python3.8/site-packages (from transformers) (24.1)\n",
      "Requirement already satisfied: pyyaml>=5.1 in /home/sun/anaconda3/envs/FreeVC/lib/python3.8/site-packages (from transformers) (6.0.1)\n",
      "Collecting regex!=2019.12.17 (from transformers)\n",
      "  Downloading regex-2024.9.11-cp38-cp38-manylinux_2_17_x86_64.manylinux2014_x86_64.whl.metadata (40 kB)\n",
      "Requirement already satisfied: requests in /home/sun/anaconda3/envs/FreeVC/lib/python3.8/site-packages (from transformers) (2.32.3)\n",
      "Collecting safetensors>=0.4.1 (from transformers)\n",
      "  Downloading safetensors-0.4.5-cp38-cp38-manylinux_2_17_x86_64.manylinux2014_x86_64.whl.metadata (3.8 kB)\n",
      "Collecting tokenizers<0.21,>=0.20 (from transformers)\n",
      "  Downloading tokenizers-0.20.1-cp38-cp38-manylinux_2_17_x86_64.manylinux2014_x86_64.whl.metadata (6.7 kB)\n",
      "Requirement already satisfied: tqdm>=4.27 in /home/sun/anaconda3/envs/FreeVC/lib/python3.8/site-packages (from transformers) (4.66.5)\n",
      "Collecting pyarrow>=15.0.0 (from datasets)\n",
      "  Downloading pyarrow-17.0.0-cp38-cp38-manylinux_2_28_x86_64.whl.metadata (3.3 kB)\n",
      "Collecting dill<0.3.9,>=0.3.0 (from datasets)\n",
      "  Downloading dill-0.3.8-py3-none-any.whl.metadata (10 kB)\n",
      "Collecting pandas (from datasets)\n",
      "  Downloading pandas-2.0.3-cp38-cp38-manylinux_2_17_x86_64.manylinux2014_x86_64.whl.metadata (18 kB)\n",
      "Collecting xxhash (from datasets)\n",
      "  Downloading xxhash-3.5.0-cp38-cp38-manylinux_2_17_x86_64.manylinux2014_x86_64.whl.metadata (12 kB)\n",
      "Collecting multiprocess<0.70.17 (from datasets)\n",
      "  Downloading multiprocess-0.70.16-py38-none-any.whl.metadata (7.1 kB)\n",
      "Requirement already satisfied: fsspec<=2024.9.0,>=2023.1.0 in /home/sun/anaconda3/envs/FreeVC/lib/python3.8/site-packages (from fsspec[http]<=2024.9.0,>=2023.1.0->datasets) (2024.9.0)\n",
      "Collecting aiohttp (from datasets)\n",
      "  Downloading aiohttp-3.10.10-cp38-cp38-manylinux_2_17_x86_64.manylinux2014_x86_64.whl.metadata (7.6 kB)\n",
      "Collecting click<9.0.0,>=8.1.3 (from jiwer)\n",
      "  Downloading click-8.1.7-py3-none-any.whl.metadata (3.0 kB)\n",
      "Collecting rapidfuzz<4,>=3 (from jiwer)\n",
      "  Downloading rapidfuzz-3.9.7-cp38-cp38-manylinux_2_17_x86_64.manylinux2014_x86_64.whl.metadata (12 kB)\n",
      "Collecting aiohappyeyeballs>=2.3.0 (from aiohttp->datasets)\n",
      "  Downloading aiohappyeyeballs-2.4.3-py3-none-any.whl.metadata (6.1 kB)\n",
      "Collecting aiosignal>=1.1.2 (from aiohttp->datasets)\n",
      "  Downloading aiosignal-1.3.1-py3-none-any.whl.metadata (4.0 kB)\n",
      "Requirement already satisfied: attrs>=17.3.0 in /home/sun/anaconda3/envs/FreeVC/lib/python3.8/site-packages (from aiohttp->datasets) (23.1.0)\n",
      "Collecting frozenlist>=1.1.1 (from aiohttp->datasets)\n",
      "  Downloading frozenlist-1.5.0-cp38-cp38-manylinux_2_5_x86_64.manylinux1_x86_64.manylinux_2_17_x86_64.manylinux2014_x86_64.whl.metadata (13 kB)\n",
      "Collecting multidict<7.0,>=4.5 (from aiohttp->datasets)\n",
      "  Downloading multidict-6.1.0-cp38-cp38-manylinux_2_17_x86_64.manylinux2014_x86_64.whl.metadata (5.0 kB)\n",
      "Collecting yarl<2.0,>=1.12.0 (from aiohttp->datasets)\n",
      "  Downloading yarl-1.15.2-cp38-cp38-manylinux_2_17_x86_64.manylinux2014_x86_64.whl.metadata (56 kB)\n",
      "Collecting async-timeout<5.0,>=4.0 (from aiohttp->datasets)\n",
      "  Downloading async_timeout-4.0.3-py3-none-any.whl.metadata (4.2 kB)\n",
      "Requirement already satisfied: typing-extensions>=3.7.4.3 in /home/sun/anaconda3/envs/FreeVC/lib/python3.8/site-packages (from huggingface-hub<1.0,>=0.23.2->transformers) (4.11.0)\n",
      "Requirement already satisfied: charset-normalizer<4,>=2 in /home/sun/anaconda3/envs/FreeVC/lib/python3.8/site-packages (from requests->transformers) (3.3.2)\n",
      "Requirement already satisfied: idna<4,>=2.5 in /home/sun/anaconda3/envs/FreeVC/lib/python3.8/site-packages (from requests->transformers) (3.7)\n",
      "Requirement already satisfied: urllib3<3,>=1.21.1 in /home/sun/anaconda3/envs/FreeVC/lib/python3.8/site-packages (from requests->transformers) (2.2.2)\n",
      "Requirement already satisfied: certifi>=2017.4.17 in /home/sun/anaconda3/envs/FreeVC/lib/python3.8/site-packages (from requests->transformers) (2024.8.30)\n",
      "Requirement already satisfied: python-dateutil>=2.8.2 in /home/sun/anaconda3/envs/FreeVC/lib/python3.8/site-packages (from pandas->datasets) (2.9.0.post0)\n",
      "Requirement already satisfied: pytz>=2020.1 in /home/sun/anaconda3/envs/FreeVC/lib/python3.8/site-packages (from pandas->datasets) (2024.1)\n",
      "Collecting tzdata>=2022.1 (from pandas->datasets)\n",
      "  Downloading tzdata-2024.2-py2.py3-none-any.whl.metadata (1.4 kB)\n",
      "Requirement already satisfied: six>=1.5 in /home/sun/anaconda3/envs/FreeVC/lib/python3.8/site-packages (from python-dateutil>=2.8.2->pandas->datasets) (1.16.0)\n",
      "Collecting propcache>=0.2.0 (from yarl<2.0,>=1.12.0->aiohttp->datasets)\n",
      "  Downloading propcache-0.2.0-cp38-cp38-manylinux_2_17_x86_64.manylinux2014_x86_64.whl.metadata (7.7 kB)\n",
      "Downloading transformers-4.46.0-py3-none-any.whl (10.0 MB)\n",
      "\u001b[2K   \u001b[38;2;114;156;31m━━━━━━━━━━━━━━━━━━━━━━━━━━━━━━━━━━━━━━━━\u001b[0m \u001b[32m10.0/10.0 MB\u001b[0m \u001b[31m43.2 MB/s\u001b[0m eta \u001b[36m0:00:00\u001b[0mm eta \u001b[36m0:00:01\u001b[0m\n",
      "\u001b[?25hDownloading datasets-3.0.2-py3-none-any.whl (472 kB)\n",
      "Downloading jiwer-3.0.4-py3-none-any.whl (21 kB)\n",
      "Downloading click-8.1.7-py3-none-any.whl (97 kB)\n",
      "Downloading dill-0.3.8-py3-none-any.whl (116 kB)\n",
      "Downloading aiohttp-3.10.10-cp38-cp38-manylinux_2_17_x86_64.manylinux2014_x86_64.whl (1.3 MB)\n",
      "\u001b[2K   \u001b[38;2;114;156;31m━━━━━━━━━━━━━━━━━━━━━━━━━━━━━━━━━━━━━━━━\u001b[0m \u001b[32m1.3/1.3 MB\u001b[0m \u001b[31m27.7 MB/s\u001b[0m eta \u001b[36m0:00:00\u001b[0m\n",
      "\u001b[?25hDownloading huggingface_hub-0.26.1-py3-none-any.whl (447 kB)\n",
      "Downloading multiprocess-0.70.16-py38-none-any.whl (132 kB)\n",
      "Downloading pyarrow-17.0.0-cp38-cp38-manylinux_2_28_x86_64.whl (40.0 MB)\n",
      "\u001b[2K   \u001b[38;2;114;156;31m━━━━━━━━━━━━━━━━━━━━━━━━━━━━━━━━━━━━━━━━\u001b[0m \u001b[32m40.0/40.0 MB\u001b[0m \u001b[31m41.7 MB/s\u001b[0m eta \u001b[36m0:00:00\u001b[0m31m46.6 MB/s\u001b[0m eta \u001b[36m0:00:01\u001b[0m\n",
      "\u001b[?25hDownloading rapidfuzz-3.9.7-cp38-cp38-manylinux_2_17_x86_64.manylinux2014_x86_64.whl (3.4 MB)\n",
      "\u001b[2K   \u001b[38;2;114;156;31m━━━━━━━━━━━━━━━━━━━━━━━━━━━━━━━━━━━━━━━━\u001b[0m \u001b[32m3.4/3.4 MB\u001b[0m \u001b[31m39.2 MB/s\u001b[0m eta \u001b[36m0:00:00\u001b[0m\n",
      "\u001b[?25hDownloading regex-2024.9.11-cp38-cp38-manylinux_2_17_x86_64.manylinux2014_x86_64.whl (785 kB)\n",
      "\u001b[2K   \u001b[38;2;114;156;31m━━━━━━━━━━━━━━━━━━━━━━━━━━━━━━━━━━━━━━━━\u001b[0m \u001b[32m785.0/785.0 kB\u001b[0m \u001b[31m43.1 MB/s\u001b[0m eta \u001b[36m0:00:00\u001b[0m\n",
      "\u001b[?25hDownloading safetensors-0.4.5-cp38-cp38-manylinux_2_17_x86_64.manylinux2014_x86_64.whl (436 kB)\n",
      "Downloading tokenizers-0.20.1-cp38-cp38-manylinux_2_17_x86_64.manylinux2014_x86_64.whl (3.0 MB)\n",
      "\u001b[2K   \u001b[38;2;114;156;31m━━━━━━━━━━━━━━━━━━━━━━━━━━━━━━━━━━━━━━━━\u001b[0m \u001b[32m3.0/3.0 MB\u001b[0m \u001b[31m43.4 MB/s\u001b[0m eta \u001b[36m0:00:00\u001b[0m\n",
      "\u001b[?25hDownloading pandas-2.0.3-cp38-cp38-manylinux_2_17_x86_64.manylinux2014_x86_64.whl (12.4 MB)\n",
      "\u001b[2K   \u001b[38;2;114;156;31m━━━━━━━━━━━━━━━━━━━━━━━━━━━━━━━━━━━━━━━━\u001b[0m \u001b[32m12.4/12.4 MB\u001b[0m \u001b[31m46.8 MB/s\u001b[0m eta \u001b[36m0:00:00\u001b[0m31m55.6 MB/s\u001b[0m eta \u001b[36m0:00:01\u001b[0m\n",
      "\u001b[?25hDownloading xxhash-3.5.0-cp38-cp38-manylinux_2_17_x86_64.manylinux2014_x86_64.whl (194 kB)\n",
      "Downloading aiohappyeyeballs-2.4.3-py3-none-any.whl (14 kB)\n",
      "Downloading aiosignal-1.3.1-py3-none-any.whl (7.6 kB)\n",
      "Downloading async_timeout-4.0.3-py3-none-any.whl (5.7 kB)\n",
      "Downloading frozenlist-1.5.0-cp38-cp38-manylinux_2_5_x86_64.manylinux1_x86_64.manylinux_2_17_x86_64.manylinux2014_x86_64.whl (243 kB)\n",
      "Downloading multidict-6.1.0-cp38-cp38-manylinux_2_17_x86_64.manylinux2014_x86_64.whl (129 kB)\n",
      "Downloading tzdata-2024.2-py2.py3-none-any.whl (346 kB)\n",
      "Downloading yarl-1.15.2-cp38-cp38-manylinux_2_17_x86_64.manylinux2014_x86_64.whl (319 kB)\n",
      "Downloading propcache-0.2.0-cp38-cp38-manylinux_2_17_x86_64.manylinux2014_x86_64.whl (213 kB)\n",
      "Installing collected packages: xxhash, tzdata, safetensors, regex, rapidfuzz, pyarrow, propcache, multidict, frozenlist, dill, click, async-timeout, aiohappyeyeballs, yarl, pandas, multiprocess, jiwer, huggingface-hub, aiosignal, tokenizers, aiohttp, transformers, datasets\n",
      "Successfully installed aiohappyeyeballs-2.4.3 aiohttp-3.10.10 aiosignal-1.3.1 async-timeout-4.0.3 click-8.1.7 datasets-3.0.2 dill-0.3.8 frozenlist-1.5.0 huggingface-hub-0.26.1 jiwer-3.0.4 multidict-6.1.0 multiprocess-0.70.16 pandas-2.0.3 propcache-0.2.0 pyarrow-17.0.0 rapidfuzz-3.9.7 regex-2024.9.11 safetensors-0.4.5 tokenizers-0.20.1 transformers-4.46.0 tzdata-2024.2 xxhash-3.5.0 yarl-1.15.2\n",
      "Note: you may need to restart the kernel to use updated packages.\n"
     ]
    }
   ],
   "source": [
    "pip install transformers datasets jiwer"
   ]
  },
  {
   "cell_type": "code",
   "execution_count": 2,
   "id": "9c198e3a-1826-4458-8764-238a96998673",
   "metadata": {},
   "outputs": [
    {
     "name": "stdout",
     "output_type": "stream",
     "text": [
      "Collecting ipywidgets\n",
      "  Downloading ipywidgets-8.1.5-py3-none-any.whl.metadata (2.3 kB)\n",
      "Requirement already satisfied: comm>=0.1.3 in /home/sun/anaconda3/envs/FreeVC/lib/python3.8/site-packages (from ipywidgets) (0.2.1)\n",
      "Requirement already satisfied: ipython>=6.1.0 in /home/sun/anaconda3/envs/FreeVC/lib/python3.8/site-packages (from ipywidgets) (8.12.2)\n",
      "Requirement already satisfied: traitlets>=4.3.1 in /home/sun/anaconda3/envs/FreeVC/lib/python3.8/site-packages (from ipywidgets) (5.9.0)\n",
      "Collecting widgetsnbextension~=4.0.12 (from ipywidgets)\n",
      "  Downloading widgetsnbextension-4.0.13-py3-none-any.whl.metadata (1.6 kB)\n",
      "Collecting jupyterlab-widgets~=3.0.12 (from ipywidgets)\n",
      "  Downloading jupyterlab_widgets-3.0.13-py3-none-any.whl.metadata (4.1 kB)\n",
      "Requirement already satisfied: backcall in /home/sun/anaconda3/envs/FreeVC/lib/python3.8/site-packages (from ipython>=6.1.0->ipywidgets) (0.2.0)\n",
      "Requirement already satisfied: decorator in /home/sun/anaconda3/envs/FreeVC/lib/python3.8/site-packages (from ipython>=6.1.0->ipywidgets) (5.1.1)\n",
      "Requirement already satisfied: jedi>=0.16 in /home/sun/anaconda3/envs/FreeVC/lib/python3.8/site-packages (from ipython>=6.1.0->ipywidgets) (0.19.1)\n",
      "Requirement already satisfied: matplotlib-inline in /home/sun/anaconda3/envs/FreeVC/lib/python3.8/site-packages (from ipython>=6.1.0->ipywidgets) (0.1.6)\n",
      "Requirement already satisfied: pickleshare in /home/sun/anaconda3/envs/FreeVC/lib/python3.8/site-packages (from ipython>=6.1.0->ipywidgets) (0.7.5)\n",
      "Requirement already satisfied: prompt-toolkit!=3.0.37,<3.1.0,>=3.0.30 in /home/sun/anaconda3/envs/FreeVC/lib/python3.8/site-packages (from ipython>=6.1.0->ipywidgets) (3.0.43)\n",
      "Requirement already satisfied: pygments>=2.4.0 in /home/sun/anaconda3/envs/FreeVC/lib/python3.8/site-packages (from ipython>=6.1.0->ipywidgets) (2.15.1)\n",
      "Requirement already satisfied: stack-data in /home/sun/anaconda3/envs/FreeVC/lib/python3.8/site-packages (from ipython>=6.1.0->ipywidgets) (0.2.0)\n",
      "Requirement already satisfied: typing-extensions in /home/sun/anaconda3/envs/FreeVC/lib/python3.8/site-packages (from ipython>=6.1.0->ipywidgets) (4.11.0)\n",
      "Requirement already satisfied: pexpect>4.3 in /home/sun/anaconda3/envs/FreeVC/lib/python3.8/site-packages (from ipython>=6.1.0->ipywidgets) (4.8.0)\n",
      "Requirement already satisfied: parso<0.9.0,>=0.8.3 in /home/sun/anaconda3/envs/FreeVC/lib/python3.8/site-packages (from jedi>=0.16->ipython>=6.1.0->ipywidgets) (0.8.3)\n",
      "Requirement already satisfied: ptyprocess>=0.5 in /home/sun/anaconda3/envs/FreeVC/lib/python3.8/site-packages (from pexpect>4.3->ipython>=6.1.0->ipywidgets) (0.7.0)\n",
      "Requirement already satisfied: wcwidth in /home/sun/anaconda3/envs/FreeVC/lib/python3.8/site-packages (from prompt-toolkit!=3.0.37,<3.1.0,>=3.0.30->ipython>=6.1.0->ipywidgets) (0.2.5)\n",
      "Requirement already satisfied: executing in /home/sun/anaconda3/envs/FreeVC/lib/python3.8/site-packages (from stack-data->ipython>=6.1.0->ipywidgets) (0.8.3)\n",
      "Requirement already satisfied: asttokens in /home/sun/anaconda3/envs/FreeVC/lib/python3.8/site-packages (from stack-data->ipython>=6.1.0->ipywidgets) (2.0.5)\n",
      "Requirement already satisfied: pure-eval in /home/sun/anaconda3/envs/FreeVC/lib/python3.8/site-packages (from stack-data->ipython>=6.1.0->ipywidgets) (0.2.2)\n",
      "Requirement already satisfied: six in /home/sun/anaconda3/envs/FreeVC/lib/python3.8/site-packages (from asttokens->stack-data->ipython>=6.1.0->ipywidgets) (1.16.0)\n",
      "Downloading ipywidgets-8.1.5-py3-none-any.whl (139 kB)\n",
      "Downloading jupyterlab_widgets-3.0.13-py3-none-any.whl (214 kB)\n",
      "Downloading widgetsnbextension-4.0.13-py3-none-any.whl (2.3 MB)\n",
      "\u001b[2K   \u001b[38;2;114;156;31m━━━━━━━━━━━━━━━━━━━━━━━━━━━━━━━━━━━━━━━━\u001b[0m \u001b[32m2.3/2.3 MB\u001b[0m \u001b[31m50.8 MB/s\u001b[0m eta \u001b[36m0:00:00\u001b[0m\n",
      "\u001b[?25hInstalling collected packages: widgetsnbextension, jupyterlab-widgets, ipywidgets\n",
      "Successfully installed ipywidgets-8.1.5 jupyterlab-widgets-3.0.13 widgetsnbextension-4.0.13\n",
      "Note: you may need to restart the kernel to use updated packages.\n"
     ]
    }
   ],
   "source": [
    "pip install ipywidgets"
   ]
  },
  {
   "cell_type": "code",
   "execution_count": 1,
   "id": "5ac1ec3b-7995-4822-b2e8-4f9e3cb47a51",
   "metadata": {},
   "outputs": [],
   "source": [
    "import os\n",
    "import librosa\n",
    "import torch\n",
    "from transformers import Wav2Vec2ForCTC, Wav2Vec2Processor\n",
    "import jiwer"
   ]
  },
  {
   "cell_type": "code",
   "execution_count": 2,
   "id": "c1fa7397-dd64-4c0a-a835-25018fd7316f",
   "metadata": {},
   "outputs": [
    {
     "data": {
      "application/vnd.jupyter.widget-view+json": {
       "model_id": "157a4ede6abc407cb223db61ee08d6d0",
       "version_major": 2,
       "version_minor": 0
      },
      "text/plain": [
       "preprocessor_config.json:   0%|          | 0.00/159 [00:00<?, ?B/s]"
      ]
     },
     "metadata": {},
     "output_type": "display_data"
    },
    {
     "data": {
      "application/vnd.jupyter.widget-view+json": {
       "model_id": "d4b2b021535848928090abfb03c179d7",
       "version_major": 2,
       "version_minor": 0
      },
      "text/plain": [
       "tokenizer_config.json:   0%|          | 0.00/163 [00:00<?, ?B/s]"
      ]
     },
     "metadata": {},
     "output_type": "display_data"
    },
    {
     "data": {
      "application/vnd.jupyter.widget-view+json": {
       "model_id": "df1a18af59374ce29915c03c54bd0e58",
       "version_major": 2,
       "version_minor": 0
      },
      "text/plain": [
       "config.json:   0%|          | 0.00/843 [00:00<?, ?B/s]"
      ]
     },
     "metadata": {},
     "output_type": "display_data"
    },
    {
     "data": {
      "application/vnd.jupyter.widget-view+json": {
       "model_id": "36a29314fbbe4e7083c0b813d910174d",
       "version_major": 2,
       "version_minor": 0
      },
      "text/plain": [
       "vocab.json:   0%|          | 0.00/291 [00:00<?, ?B/s]"
      ]
     },
     "metadata": {},
     "output_type": "display_data"
    },
    {
     "data": {
      "application/vnd.jupyter.widget-view+json": {
       "model_id": "0111196e505f4c359b29bb5f239bf39a",
       "version_major": 2,
       "version_minor": 0
      },
      "text/plain": [
       "special_tokens_map.json:   0%|          | 0.00/85.0 [00:00<?, ?B/s]"
      ]
     },
     "metadata": {},
     "output_type": "display_data"
    },
    {
     "data": {
      "application/vnd.jupyter.widget-view+json": {
       "model_id": "6ca73057f8ad4c0d9be20e9bdb46dfaa",
       "version_major": 2,
       "version_minor": 0
      },
      "text/plain": [
       "pytorch_model.bin:   0%|          | 0.00/1.26G [00:00<?, ?B/s]"
      ]
     },
     "metadata": {},
     "output_type": "display_data"
    },
    {
     "name": "stderr",
     "output_type": "stream",
     "text": [
      "/home/sun/anaconda3/envs/FreeVC/lib/python3.8/site-packages/torch/_utils.py:831: UserWarning: TypedStorage is deprecated. It will be removed in the future and UntypedStorage will be the only storage class. This should only matter to you if you are using storages directly.  To access UntypedStorage directly, use tensor.untyped_storage() instead of tensor.storage()\n",
      "  return self.fget.__get__(instance, owner)()\n",
      "Some weights of Wav2Vec2ForCTC were not initialized from the model checkpoint at facebook/wav2vec2-large-960h and are newly initialized: ['wav2vec2.masked_spec_embed']\n",
      "You should probably TRAIN this model on a down-stream task to be able to use it for predictions and inference.\n"
     ]
    }
   ],
   "source": [
    "# 加载预训练的Wav2Vec 2.0 ASR模型和处理器\n",
    "processor = Wav2Vec2Processor.from_pretrained(\"facebook/wav2vec2-large-960h\")\n",
    "model = Wav2Vec2ForCTC.from_pretrained(\"facebook/wav2vec2-large-960h\")"
   ]
  },
  {
   "cell_type": "code",
   "execution_count": 3,
   "id": "2105a1d8-81fb-4bea-aee2-d73e34c34a83",
   "metadata": {},
   "outputs": [],
   "source": [
    "# 加载音频文件\n",
    "def load_wav(wavfile, sr=16000):\n",
    "    \"\"\"\n",
    "    加载音频文件并返回音频信号\n",
    "    \"\"\"\n",
    "    wav, _ = librosa.load(wavfile, sr=sr, mono=True)\n",
    "    return wav"
   ]
  },
  {
   "cell_type": "code",
   "execution_count": 4,
   "id": "dd1f5ef6-7157-45d7-9ffc-2f1b44ebdbe9",
   "metadata": {},
   "outputs": [],
   "source": [
    "# 使用ASR模型将音频转换为文本\n",
    "def transcribe_audio(wavfile):\n",
    "    \"\"\"\n",
    "    使用ASR模型将音频文件转录为文本\n",
    "    \"\"\"\n",
    "    # 加载音频数据\n",
    "    wav = load_wav(wavfile)\n",
    "    \n",
    "    # 使用processor处理音频\n",
    "    input_values = processor(wav, return_tensors=\"pt\", sampling_rate=16000).input_values\n",
    "    \n",
    "    # 使用模型预测并解码\n",
    "    with torch.no_grad():\n",
    "        logits = model(input_values).logits\n",
    "    \n",
    "    predicted_ids = torch.argmax(logits, dim=-1)\n",
    "    \n",
    "    # 解码为文本\n",
    "    transcription = processor.decode(predicted_ids[0])\n",
    "    \n",
    "    return transcription.lower()"
   ]
  },
  {
   "cell_type": "code",
   "execution_count": 5,
   "id": "0318f2da-b376-4a83-ab73-58c1dda0454d",
   "metadata": {},
   "outputs": [],
   "source": [
    "# 计算WER和CER\n",
    "def calculate_wer_cer(reference_text, hypothesis_text):\n",
    "    \"\"\"\n",
    "    计算词错误率（WER）和字符错误率（CER）\n",
    "    \"\"\"\n",
    "    wer = jiwer.wer(reference_text, hypothesis_text)\n",
    "    cer = jiwer.cer(reference_text, hypothesis_text)\n",
    "    \n",
    "    return wer, cer"
   ]
  },
  {
   "cell_type": "code",
   "execution_count": 6,
   "id": "77c48a4b-3615-4e73-947c-a69af6839641",
   "metadata": {},
   "outputs": [],
   "source": [
    "# 主流程函数\n",
    "def process_wer_cer(mapping_file_path, original_base_path, generated_base_path):\n",
    "    \"\"\"\n",
    "    从映射文件中提取源语音和转换语音，计算WER和CER\n",
    "    \"\"\"\n",
    "    total_wer = 0\n",
    "    total_cer = 0\n",
    "    count = 0\n",
    "\n",
    "    # 读取映射文件\n",
    "    with open(mapping_file_path, 'r') as f:\n",
    "        for line in f:\n",
    "            parts = line.strip().split('|')\n",
    "\n",
    "            # 检查是否有足够的字段\n",
    "            if len(parts) != 3:\n",
    "                print(f\"Invalid line format: {line}\")\n",
    "                continue\n",
    "\n",
    "            generated_wav, content_wav, _ = parts\n",
    "\n",
    "            # 构建音频文件路径\n",
    "            original_wav_path = os.path.join(original_base_path, content_wav)\n",
    "            generated_wav_path = os.path.join(generated_base_path, generated_wav)\n",
    "\n",
    "            # 转录源音频和转换音频\n",
    "            reference_text = transcribe_audio(original_wav_path)\n",
    "            hypothesis_text = transcribe_audio(generated_wav_path)\n",
    "\n",
    "            # 计算WER和CER\n",
    "            wer, cer = calculate_wer_cer(reference_text, hypothesis_text)\n",
    "            print(f\"WER for {generated_wav}: {wer}, CER: {cer}\")\n",
    "\n",
    "            total_wer += wer\n",
    "            total_cer += cer\n",
    "            count += 1\n",
    "\n",
    "    # 计算平均WER和CER\n",
    "    avg_wer = total_wer / count if count > 0 else float('inf')\n",
    "    avg_cer = total_cer / count if count > 0 else float('inf')\n",
    "\n",
    "    print(f\"\\nAverage WER: {avg_wer}, Average CER: {avg_cer}\")"
   ]
  },
  {
   "cell_type": "code",
   "execution_count": 11,
   "id": "d8adab24-daba-42d9-ab68-181a98082e69",
   "metadata": {},
   "outputs": [],
   "source": [
    "# 示例用法\n",
    "mapping_file_path = '/home/sun/FreeVC/convert_S.txt'  # 更新后的转换文件路径\n",
    "original_base_path = '/home/sun/FreeVC/outputs/wav_o'  # 原始音频目录\n",
    "generated_base_path = '/home/sun/FreeVC/outputs/starganvc_test'  # 生成音频目录"
   ]
  },
  {
   "cell_type": "code",
   "execution_count": 12,
   "id": "febe0a5d-5af1-4d0a-b99c-6c8a30169f19",
   "metadata": {},
   "outputs": [
    {
     "name": "stdout",
     "output_type": "stream",
     "text": [
      "WER for WTM1_S.wav: 0.6666666666666666, CER: 0.2777777777777778\n",
      "WER for WTM2_S.wav: 0.09090909090909091, CER: 0.03773584905660377\n",
      "WER for WTM3_S.wav: 0.5263157894736842, CER: 0.19387755102040816\n",
      "WER for WTM4_S.wav: 1.0, CER: 0.5\n",
      "WER for WTM5_S.wav: 0.0, CER: 0.0\n",
      "WER for WTM6_S.wav: 0.4, CER: 0.1414141414141414\n",
      "WER for WTM7_S.wav: 1.0, CER: 0.6666666666666666\n",
      "WER for WTM8_S.wav: 0.0, CER: 0.0\n",
      "WER for WTM9_S.wav: 0.7, CER: 0.36\n",
      "WER for WTM10_S.wav: 1.5, CER: 0.29411764705882354\n",
      "WER for WTM11_S.wav: 0.09090909090909091, CER: 0.05660377358490566\n",
      "WER for WTM12_S.wav: 0.631578947368421, CER: 0.36363636363636365\n",
      "WER for MTW1_S.wav: 1.0, CER: 1.0\n",
      "WER for MTW2_S.wav: 0.09090909090909091, CER: 0.03773584905660377\n",
      "WER for MTW3_S.wav: 0.15789473684210525, CER: 0.030303030303030304\n",
      "WER for MTW4_S.wav: 0.06666666666666667, CER: 0.015384615384615385\n",
      "WER for MTW5_S.wav: 1.0, CER: 0.8888888888888888\n",
      "WER for MTW6_S.wav: 0.0, CER: 0.0\n",
      "WER for MTW7_S.wav: 0.15, CER: 0.04081632653061224\n",
      "WER for MTW8_S.wav: 0.3333333333333333, CER: 0.18181818181818182\n",
      "WER for MTW9_S.wav: 1.0, CER: 0.9411764705882353\n",
      "WER for MTW10_S.wav: 0.0, CER: 0.0\n",
      "WER for MTW11_S.wav: 0.05, CER: 0.02\n",
      "WER for MTW12_S.wav: 0.13333333333333333, CER: 0.06060606060606061\n",
      "WER for WTW1_S.wav: 0.6666666666666666, CER: 0.16666666666666666\n",
      "WER for WTW2_S.wav: 0.2727272727272727, CER: 0.18867924528301888\n",
      "WER for WTW3_S.wav: 0.3684210526315789, CER: 0.14285714285714285\n",
      "WER for WTW4_S.wav: 1.0, CER: 0.7222222222222222\n",
      "WER for WTW5_S.wav: 0.0, CER: 0.0\n",
      "WER for WTW6_S.wav: 0.15, CER: 0.04040404040404041\n",
      "WER for WTW7_S.wav: 1.0, CER: 0.7222222222222222\n",
      "WER for WTW8_S.wav: 0.09090909090909091, CER: 0.018867924528301886\n",
      "WER for WTW9_S.wav: 0.05, CER: 0.01\n",
      "WER for WTW10_S.wav: 1.0, CER: 0.7647058823529411\n",
      "WER for WTW11_S.wav: 0.09090909090909091, CER: 0.05660377358490566\n",
      "WER for WTW12_S.wav: 0.47368421052631576, CER: 0.13131313131313133\n",
      "WER for MTM1_S.wav: 2.6666666666666665, CER: 1.7222222222222223\n",
      "WER for MTM2_S.wav: 0.0, CER: 0.0\n",
      "WER for MTM3_S.wav: 0.5263157894736842, CER: 0.23232323232323232\n",
      "WER for MTM4_S.wav: 0.6666666666666666, CER: 0.1111111111111111\n",
      "WER for MTM5_S.wav: 0.0, CER: 0.0\n",
      "WER for MTM6_S.wav: 0.4, CER: 0.17346938775510204\n",
      "WER for MTM7_S.wav: 1.0, CER: 0.4117647058823529\n",
      "WER for MTM8_S.wav: 0.09090909090909091, CER: 0.07547169811320754\n",
      "WER for MTM9_S.wav: 0.45, CER: 0.22\n",
      "WER for MTM10_S.wav: 1.0, CER: 0.5555555555555556\n",
      "WER for MTM11_S.wav: 0.18181818181818182, CER: 0.09433962264150944\n",
      "WER for MTM12_S.wav: 0.3, CER: 0.11\n",
      "Invalid line format: \n",
      "\n",
      "\n",
      "Average WER: 0.47987938596491236, Average CER: 0.2662366454256418\n"
     ]
    }
   ],
   "source": [
    "process_wer_cer(mapping_file_path, original_base_path, generated_base_path)"
   ]
  },
  {
   "cell_type": "code",
   "execution_count": null,
   "id": "3ddb326c-9143-4560-939c-259037cd3b26",
   "metadata": {},
   "outputs": [],
   "source": []
  }
 ],
 "metadata": {
  "kernelspec": {
   "display_name": "FreeVC",
   "language": "python",
   "name": "freevc"
  },
  "language_info": {
   "codemirror_mode": {
    "name": "ipython",
    "version": 3
   },
   "file_extension": ".py",
   "mimetype": "text/x-python",
   "name": "python",
   "nbconvert_exporter": "python",
   "pygments_lexer": "ipython3",
   "version": "3.8.19"
  }
 },
 "nbformat": 4,
 "nbformat_minor": 5
}
