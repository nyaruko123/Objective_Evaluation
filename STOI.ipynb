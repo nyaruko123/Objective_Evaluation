{
 "cells": [
  {
   "cell_type": "code",
   "execution_count": 1,
   "id": "e8556522-a63a-49c4-9e00-327c62cd6199",
   "metadata": {},
   "outputs": [],
   "source": [
    "from pystoi import stoi\n",
    "import librosa\n",
    "import os\n",
    "import numpy as np"
   ]
  },
  {
   "cell_type": "code",
   "execution_count": 2,
   "id": "07b9c06c-a8e8-42a0-a4a4-1cd85832e773",
   "metadata": {},
   "outputs": [],
   "source": [
    "# 加载音频文件并对齐\n",
    "def load_wav(wavfile, sr=16000):\n",
    "    \"\"\"\n",
    "    加载音频文件并返回音频信号\n",
    "    \"\"\"\n",
    "    wav, _ = librosa.load(wavfile, sr=sr, mono=True)\n",
    "    return wav\n",
    "\n",
    "def align_signals(ref_signal, gen_signal):\n",
    "    \"\"\"\n",
    "    对齐源语音和生成语音的长度，截短或填充到相同长度\n",
    "    \"\"\"\n",
    "    min_len = min(len(ref_signal), len(gen_signal))\n",
    "    ref_signal = ref_signal[:min_len]\n",
    "    gen_signal = gen_signal[:min_len]\n",
    "    return ref_signal, gen_signal"
   ]
  },
  {
   "cell_type": "code",
   "execution_count": 3,
   "id": "b267ec03-1edb-4514-98a0-23f893ceb5ee",
   "metadata": {},
   "outputs": [],
   "source": [
    "# 计算 STOI\n",
    "def calculate_stoi(reference_signal, generated_signal, sr=16000):\n",
    "    \"\"\"\n",
    "    计算 STOI 分数\n",
    "    \"\"\"\n",
    "    # 对齐信号\n",
    "    reference_signal, generated_signal = align_signals(reference_signal, generated_signal)\n",
    "    # 计算 STOI 分数\n",
    "    return stoi(reference_signal, generated_signal, sr, extended=False)\n"
   ]
  },
  {
   "cell_type": "code",
   "execution_count": 4,
   "id": "95445089-2f60-4c6a-9a26-8c357feb2f49",
   "metadata": {},
   "outputs": [],
   "source": [
    "# 主流程函数\n",
    "def process_stoi(mapping_file_path, original_base_path, generated_base_path):\n",
    "    \"\"\"\n",
    "    从映射文件中提取源语音和转换语音，计算 STOI 分数\n",
    "    \"\"\"\n",
    "    total_stoi = 0\n",
    "    count = 0\n",
    "\n",
    "    # 读取映射文件\n",
    "    with open(mapping_file_path, 'r') as f:\n",
    "        for line in f:\n",
    "            parts = line.strip().split('|')\n",
    "\n",
    "            # 检查是否有足够的字段\n",
    "            if len(parts) != 3:\n",
    "                print(f\"Invalid line format: {line}\")\n",
    "                continue\n",
    "\n",
    "            generated_wav, content_wav, _ = parts\n",
    "\n",
    "            # 构建音频文件路径\n",
    "            original_wav_path = os.path.join(original_base_path, content_wav)\n",
    "            generated_wav_path = os.path.join(generated_base_path, generated_wav)\n",
    "\n",
    "            # 检查文件是否存在\n",
    "            if not os.path.exists(original_wav_path) or not os.path.exists(generated_wav_path):\n",
    "                print(f\"文件 {original_wav_path} 或 {generated_wav_path} 不存在，跳过此对。\")\n",
    "                continue\n",
    "\n",
    "            # 加载源语音和生成语音\n",
    "            reference_signal = load_wav(original_wav_path)\n",
    "            generated_signal = load_wav(generated_wav_path)\n",
    "\n",
    "            # 计算当前文件的 STOI 分数\n",
    "            stoi_score = calculate_stoi(reference_signal, generated_signal)\n",
    "            print(f\"STOI Score for {generated_wav}: {stoi_score}\")\n",
    "\n",
    "            total_stoi += stoi_score\n",
    "            count += 1\n",
    "\n",
    "    # 计算平均 STOI 分数\n",
    "    avg_stoi = total_stoi / count if count > 0 else 0\n",
    "    print(f\"\\nAverage STOI Score: {avg_stoi}\")"
   ]
  },
  {
   "cell_type": "code",
   "execution_count": 7,
   "id": "4c7eac72-9249-4949-a18e-1e28c00820ec",
   "metadata": {},
   "outputs": [],
   "source": [
    "# 示例用法\n",
    "mapping_file_path = '/home/sun/FreeVC/convert_A.txt'  # 转换文件路径\n",
    "original_base_path = '/home/sun/FreeVC/outputs/wav_o'  # 原始音频目录\n",
    "generated_base_path = '/home/sun/FreeVC/outputs/autovc_test'  # 生成音频目录"
   ]
  },
  {
   "cell_type": "code",
   "execution_count": null,
   "id": "3e6439f0-0cae-4970-b661-6e20a9796ed3",
   "metadata": {},
   "outputs": [],
   "source": [
    "process_stoi(mapping_file_path, original_base_path, generated_base_path)"
   ]
  },
  {
   "cell_type": "code",
   "execution_count": null,
   "id": "27e23d58-51c3-4348-b16a-77de3798375a",
   "metadata": {},
   "outputs": [],
   "source": []
  }
 ],
 "metadata": {
  "kernelspec": {
   "display_name": "FreeVC",
   "language": "python",
   "name": "freevc"
  },
  "language_info": {
   "codemirror_mode": {
    "name": "ipython",
    "version": 3
   },
   "file_extension": ".py",
   "mimetype": "text/x-python",
   "name": "python",
   "nbconvert_exporter": "python",
   "pygments_lexer": "ipython3",
   "version": "3.8.19"
  }
 },
 "nbformat": 4,
 "nbformat_minor": 5
}
