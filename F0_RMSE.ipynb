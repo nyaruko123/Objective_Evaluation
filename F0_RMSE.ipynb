{
 "cells": [
  {
   "cell_type": "code",
   "execution_count": 24,
   "id": "660fa5aa-7c4f-410f-97c2-1db3dc8768a0",
   "metadata": {},
   "outputs": [],
   "source": [
    "import os\n",
    "import numpy as np\n",
    "import librosa\n",
    "import pyworld"
   ]
  },
  {
   "cell_type": "code",
   "execution_count": 25,
   "id": "45432e98-5d02-4046-b0d7-f24b52b43bce",
   "metadata": {},
   "outputs": [],
   "source": [
    "# 加载音频文件\n",
    "def load_wav(wavfile, sr=22050):\n",
    "    \"\"\"\n",
    "    加载音频文件并返回音频信号\n",
    "    \"\"\"\n",
    "    wav, _ = librosa.load(wavfile, sr=sr, mono=True)\n",
    "    return wav"
   ]
  },
  {
   "cell_type": "code",
   "execution_count": 26,
   "id": "4d3070d0-e9f8-41bb-a3cb-8447949d76db",
   "metadata": {},
   "outputs": [],
   "source": [
    "# 提取F0特征\n",
    "def extract_f0(wavfile, sr=22050, frame_period=5.0):\n",
    "    \"\"\"\n",
    "    提取音频的基频(F0)特征\n",
    "    \"\"\"\n",
    "    wav = load_wav(wavfile, sr)\n",
    "    f0, timeaxis = pyworld.harvest(wav.astype(np.float64), sr, frame_period=frame_period)\n",
    "    return f0"
   ]
  },
  {
   "cell_type": "code",
   "execution_count": 27,
   "id": "7785d731-0fa9-432c-996e-3d53f0b63358",
   "metadata": {},
   "outputs": [],
   "source": [
    "# 计算RMSE\n",
    "def calculate_rmse(f0_true, f0_pred):\n",
    "    \"\"\"\n",
    "    计算F0的均方根误差 (RMSE)，确保两个F0特征序列的长度一致\n",
    "    \"\"\"\n",
    "    # 去除0值的帧，并确保两个序列长度对齐\n",
    "    non_zero_idx_true = np.where(f0_true > 0)[0]\n",
    "    non_zero_idx_pred = np.where(f0_pred > 0)[0]\n",
    "\n",
    "    # 确保两个非零F0序列的长度一致，截取较短的部分\n",
    "    min_length = min(len(non_zero_idx_true), len(non_zero_idx_pred))\n",
    "    f0_true = f0_true[non_zero_idx_true[:min_length]]\n",
    "    f0_pred = f0_pred[non_zero_idx_pred[:min_length]]\n",
    "\n",
    "    # 计算RMSE\n",
    "    rmse = np.sqrt(np.mean((f0_true - f0_pred) ** 2))\n",
    "    return rmse\n"
   ]
  },
  {
   "cell_type": "code",
   "execution_count": 28,
   "id": "c48d00ad-7f0a-48fd-b02f-25dfe4ee5193",
   "metadata": {},
   "outputs": [],
   "source": [
    "def process_f0_rmse(mapping_file_path, original_base_path, generated_base_path):\n",
    "    \"\"\"\n",
    "    主流程：从映射文件中提取原始音频和生成音频的F0特征，计算F0 RMSE\n",
    "    \"\"\"\n",
    "    total_rmse = 0\n",
    "    count = 0\n",
    "\n",
    "    # 读取映射文件\n",
    "    with open(mapping_file_path, 'r') as f:\n",
    "        for line in f:\n",
    "            parts = line.strip().split('|')\n",
    "\n",
    "            # 检查是否有足够的字段\n",
    "            if len(parts) != 3:\n",
    "                print(f\"Invalid line format: {line}\")\n",
    "                continue\n",
    "\n",
    "            generated_wav, content_wav, _ = parts\n",
    "\n",
    "            # 构建音频文件路径\n",
    "            original_wav_path = os.path.join(original_base_path, content_wav)\n",
    "            generated_wav_path = os.path.join(generated_base_path, generated_wav)\n",
    "\n",
    "            # 提取F0特征\n",
    "            f0_true = extract_f0(original_wav_path)\n",
    "            f0_pred = extract_f0(generated_wav_path)\n",
    "\n",
    "            # 计算当前文件的F0 RMSE\n",
    "            rmse = calculate_rmse(f0_true, f0_pred)\n",
    "            print(f\"RMSE for {generated_wav}: {rmse} Hz\")\n",
    "\n",
    "            total_rmse += rmse\n",
    "            count += 1\n",
    "\n",
    "    # 计算平均RMSE\n",
    "    avg_rmse = total_rmse / count if count > 0 else float('inf')\n",
    "    print(f\"\\nAverage F0 RMSE: {avg_rmse} Hz\")\n"
   ]
  },
  {
   "cell_type": "code",
   "execution_count": 31,
   "id": "de883d44-0f6d-4822-a39d-369fcc293ff4",
   "metadata": {},
   "outputs": [],
   "source": [
    "# 示例用法\n",
    "mapping_file_path = '/home/sun/FreeVC/convert_S.txt' \n",
    "original_base_path = '/home/sun/FreeVC/outputs/wav_o'  \n",
    "generated_base_path = '/home/sun/FreeVC/outputs/starganvc_test'  "
   ]
  },
  {
   "cell_type": "code",
   "execution_count": 32,
   "id": "2f7a2399-e3ba-4f54-8729-faeff14f318b",
   "metadata": {},
   "outputs": [
    {
     "name": "stdout",
     "output_type": "stream",
     "text": [
      "RMSE for WTM1_S.wav: 76.4315257744199 Hz\n",
      "RMSE for WTM2_S.wav: 60.78550845224539 Hz\n",
      "RMSE for WTM3_S.wav: 92.02460336705748 Hz\n",
      "RMSE for WTM4_S.wav: 97.53156392204973 Hz\n",
      "RMSE for WTM5_S.wav: 74.3373702343773 Hz\n",
      "RMSE for WTM6_S.wav: 110.22289816941901 Hz\n",
      "RMSE for WTM7_S.wav: 72.0628311665202 Hz\n",
      "RMSE for WTM8_S.wav: 78.86170759608765 Hz\n",
      "RMSE for WTM9_S.wav: 73.60588646850526 Hz\n",
      "RMSE for WTM10_S.wav: 92.90537425767195 Hz\n",
      "RMSE for WTM11_S.wav: 74.26556080141985 Hz\n",
      "RMSE for WTM12_S.wav: 93.3660489867943 Hz\n",
      "RMSE for MTW1_S.wav: 101.01525133545819 Hz\n",
      "RMSE for MTW2_S.wav: 101.61324187079661 Hz\n",
      "RMSE for MTW3_S.wav: 91.45408488328425 Hz\n",
      "RMSE for MTW4_S.wav: 97.88933908049367 Hz\n",
      "RMSE for MTW5_S.wav: 92.37019431596147 Hz\n",
      "RMSE for MTW6_S.wav: 97.5600961762234 Hz\n",
      "RMSE for MTW7_S.wav: 84.73739517180806 Hz\n",
      "RMSE for MTW8_S.wav: 73.66994835442111 Hz\n",
      "RMSE for MTW9_S.wav: 102.21112428096139 Hz\n",
      "RMSE for MTW10_S.wav: 91.65260286157485 Hz\n",
      "RMSE for MTW11_S.wav: 88.06985719265988 Hz\n",
      "RMSE for MTW12_S.wav: 82.2168865764458 Hz\n",
      "RMSE for WTW1_S.wav: 43.49257966453763 Hz\n",
      "RMSE for WTW2_S.wav: 42.76660317855161 Hz\n",
      "RMSE for WTW3_S.wav: 69.68252547306633 Hz\n",
      "RMSE for WTW4_S.wav: 52.95123500519111 Hz\n",
      "RMSE for WTW5_S.wav: 57.96989116103673 Hz\n",
      "RMSE for WTW6_S.wav: 74.50565116173843 Hz\n",
      "RMSE for WTW7_S.wav: 78.53990643602772 Hz\n",
      "RMSE for WTW8_S.wav: 61.054762372835135 Hz\n",
      "RMSE for WTW9_S.wav: 58.29089707958472 Hz\n",
      "RMSE for WTW10_S.wav: 71.81406462860512 Hz\n",
      "RMSE for WTW11_S.wav: 59.569960933507765 Hz\n",
      "RMSE for WTW12_S.wav: 83.16721359638197 Hz\n",
      "RMSE for MTM1_S.wav: 42.32968528261069 Hz\n",
      "RMSE for MTM2_S.wav: 50.000104916609324 Hz\n",
      "RMSE for MTM3_S.wav: 29.25657253306917 Hz\n",
      "RMSE for MTM4_S.wav: 33.32087516879405 Hz\n",
      "RMSE for MTM5_S.wav: 26.61315119011552 Hz\n",
      "RMSE for MTM6_S.wav: 41.71017568788285 Hz\n",
      "RMSE for MTM7_S.wav: 69.18957513164897 Hz\n",
      "RMSE for MTM8_S.wav: 38.229573419491636 Hz\n",
      "RMSE for MTM9_S.wav: 54.72141712144798 Hz\n",
      "RMSE for MTM10_S.wav: 74.02365434215652 Hz\n",
      "RMSE for MTM11_S.wav: 40.595761118581244 Hz\n",
      "RMSE for MTM12_S.wav: 35.97881455131124 Hz\n",
      "Invalid line format: \n",
      "\n",
      "\n",
      "Average F0 RMSE: 70.63824067607166 Hz\n"
     ]
    }
   ],
   "source": [
    "process_f0_rmse(mapping_file_path, original_base_path, generated_base_path)"
   ]
  },
  {
   "cell_type": "code",
   "execution_count": null,
   "id": "6c798ad8-a781-40f6-9a91-f3aa4b90f15e",
   "metadata": {},
   "outputs": [],
   "source": []
  }
 ],
 "metadata": {
  "kernelspec": {
   "display_name": "FreeVC",
   "language": "python",
   "name": "freevc"
  },
  "language_info": {
   "codemirror_mode": {
    "name": "ipython",
    "version": 3
   },
   "file_extension": ".py",
   "mimetype": "text/x-python",
   "name": "python",
   "nbconvert_exporter": "python",
   "pygments_lexer": "ipython3",
   "version": "3.8.19"
  }
 },
 "nbformat": 4,
 "nbformat_minor": 5
}
