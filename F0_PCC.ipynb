{
 "cells": [
  {
   "cell_type": "code",
   "execution_count": 1,
   "id": "a6eb9b82-988d-4441-81ec-fb22274e5dc4",
   "metadata": {},
   "outputs": [],
   "source": [
    "import os\n",
    "import numpy as np\n",
    "import librosa\n",
    "import pyworld"
   ]
  },
  {
   "cell_type": "code",
   "execution_count": 14,
   "id": "a7e2eb25-3eb7-4213-8b1d-248dbecc4a84",
   "metadata": {},
   "outputs": [],
   "source": [
    "# 加载音频文件\n",
    "def load_wav(wavfile, sr=16000):\n",
    "    \"\"\"\n",
    "    加载音频文件并返回音频信号\n",
    "    \"\"\"\n",
    "    wav, _ = librosa.load(wavfile, sr=sr, mono=True)\n",
    "    return wav"
   ]
  },
  {
   "cell_type": "code",
   "execution_count": 3,
   "id": "849913d7-587d-470a-bdae-ba9e09e7846e",
   "metadata": {},
   "outputs": [],
   "source": [
    "# 提取F0特征\n",
    "def extract_f0(wavfile, sr=22050, frame_period=5.0):\n",
    "    \"\"\"\n",
    "    提取音频的基频(F0)特征\n",
    "    \"\"\"\n",
    "    wav = load_wav(wavfile, sr)\n",
    "    f0, timeaxis = pyworld.harvest(wav.astype(np.float64), sr, frame_period=frame_period)\n",
    "    return f0"
   ]
  },
  {
   "cell_type": "code",
   "execution_count": 8,
   "id": "000c3773-4a28-450c-94f1-abfe3f364cbd",
   "metadata": {},
   "outputs": [],
   "source": [
    "# 计算F0的皮尔逊相关系数 (PCC)\n",
    "def calculate_f0_pcc(f0_true, f0_pred):\n",
    "    \"\"\"\n",
    "    计算基频F0的皮尔逊相关系数 (PCC)\n",
    "    \"\"\"\n",
    "    # 去除0值的帧，并确保两个序列长度对齐\n",
    "    non_zero_idx_true = np.where(f0_true > 0)[0]\n",
    "    non_zero_idx_pred = np.where(f0_pred > 0)[0]\n",
    "\n",
    "    # 确保两个非零F0序列的长度一致，截取较短的部分\n",
    "    min_length = min(len(non_zero_idx_true), len(non_zero_idx_pred))\n",
    "    if min_length == 0:\n",
    "        return float('nan')  # 如果没有有效的非零F0帧，返回nan\n",
    "\n",
    "    f0_true_aligned = f0_true[non_zero_idx_true[:min_length]]\n",
    "    f0_pred_aligned = f0_pred[non_zero_idx_pred[:min_length]]\n",
    "\n",
    "    # 计算皮尔逊相关系数\n",
    "    if len(f0_true_aligned) > 1 and len(f0_pred_aligned) > 1:\n",
    "        pcc = np.corrcoef(f0_true_aligned, f0_pred_aligned)[0, 1]\n",
    "    else:\n",
    "        pcc = float('nan')  # 如果F0序列太短，返回nan\n",
    "\n",
    "    return pcc\n"
   ]
  },
  {
   "cell_type": "code",
   "execution_count": 5,
   "id": "18a89983-3ea5-4bf7-836d-831d0e8ec5db",
   "metadata": {},
   "outputs": [],
   "source": [
    "# 主流程函数\n",
    "def process_f0_pcc(mapping_file_path, original_base_path, generated_base_path):\n",
    "    \"\"\"\n",
    "    从映射文件中提取源语音和转换语音，计算F0的PCC\n",
    "    \"\"\"\n",
    "    total_pcc = 0\n",
    "    count = 0\n",
    "\n",
    "    # 读取映射文件\n",
    "    with open(mapping_file_path, 'r') as f:\n",
    "        for line in f:\n",
    "            parts = line.strip().split('|')\n",
    "\n",
    "            # 检查是否有足够的字段\n",
    "            if len(parts) != 3:\n",
    "                print(f\"Invalid line format: {line}\")\n",
    "                continue\n",
    "\n",
    "            generated_wav, content_wav, _ = parts\n",
    "\n",
    "            # 构建音频文件路径\n",
    "            original_wav_path = os.path.join(original_base_path, content_wav)\n",
    "            generated_wav_path = os.path.join(generated_base_path, generated_wav)\n",
    "\n",
    "            # 提取F0特征\n",
    "            f0_true = extract_f0(original_wav_path)\n",
    "            f0_pred = extract_f0(generated_wav_path)\n",
    "\n",
    "            # 计算当前文件的F0 PCC\n",
    "            pcc = calculate_f0_pcc(f0_true, f0_pred)\n",
    "            print(f\"PCC for {generated_wav}: {pcc}\")\n",
    "\n",
    "            if not np.isnan(pcc):\n",
    "                total_pcc += pcc\n",
    "                count += 1\n",
    "\n",
    "    # 计算平均PCC\n",
    "    avg_pcc = total_pcc / count if count > 0 else float('nan')\n",
    "    print(f\"\\nAverage F0 PCC: {avg_pcc}\")"
   ]
  },
  {
   "cell_type": "code",
   "execution_count": 12,
   "id": "bb2da32b-5eb8-461e-8879-447f940086d6",
   "metadata": {},
   "outputs": [],
   "source": [
    "# 示例用法\n",
    "mapping_file_path = '/home/sun/FreeVC/convert_S.txt'  # 更新后的转换文件路径\n",
    "original_base_path = '/home/sun/FreeVC/outputs/wav_o'  # 原始音频目录\n",
    "generated_base_path = '/home/sun/FreeVC/outputs/starganvc_test'  # 生成音频目录"
   ]
  },
  {
   "cell_type": "code",
   "execution_count": 15,
   "id": "7d775db4-5f83-4613-9b4b-95fa83161bdb",
   "metadata": {},
   "outputs": [
    {
     "name": "stdout",
     "output_type": "stream",
     "text": [
      "PCC for WTM1_S.wav: 0.5327657307598203\n",
      "PCC for WTM2_S.wav: 0.1722772494817672\n",
      "PCC for WTM3_S.wav: 0.04528173770289166\n",
      "PCC for WTM4_S.wav: 0.28992184635396856\n",
      "PCC for WTM5_S.wav: 0.20629718188910542\n",
      "PCC for WTM6_S.wav: -0.07141008899422654\n",
      "PCC for WTM7_S.wav: 0.09289963602599842\n",
      "PCC for WTM8_S.wav: 0.11303759519652687\n",
      "PCC for WTM9_S.wav: 0.32508123385736065\n",
      "PCC for WTM10_S.wav: -0.2774398921528925\n",
      "PCC for WTM11_S.wav: 0.3392709772880627\n",
      "PCC for WTM12_S.wav: 0.15000551403027526\n",
      "PCC for MTW1_S.wav: -0.010623376329028256\n",
      "PCC for MTW2_S.wav: 0.36273682671078783\n",
      "PCC for MTW3_S.wav: -0.1799338145113961\n",
      "PCC for MTW4_S.wav: 0.0677391708721042\n",
      "PCC for MTW5_S.wav: -0.003450363208532004\n",
      "PCC for MTW6_S.wav: -0.1062303820001645\n",
      "PCC for MTW7_S.wav: -0.07900669691861933\n",
      "PCC for MTW8_S.wav: 0.10440242273844742\n",
      "PCC for MTW9_S.wav: -0.030626192785299353\n",
      "PCC for MTW10_S.wav: 0.23090431616461843\n",
      "PCC for MTW11_S.wav: 0.2822790956375842\n",
      "PCC for MTW12_S.wav: 0.013869097876842427\n",
      "PCC for WTW1_S.wav: 0.6839451802880424\n",
      "PCC for WTW2_S.wav: 0.15514687153089807\n",
      "PCC for WTW3_S.wav: -0.10420796120786292\n",
      "PCC for WTW4_S.wav: 0.03670079400029466\n",
      "PCC for WTW5_S.wav: 0.12846502037751786\n",
      "PCC for WTW6_S.wav: 0.01122503991066985\n",
      "PCC for WTW7_S.wav: 0.0984866279382264\n",
      "PCC for WTW8_S.wav: -0.009700069348374089\n",
      "PCC for WTW9_S.wav: 0.2280252266812168\n",
      "PCC for WTW10_S.wav: -0.12801046776424937\n",
      "PCC for WTW11_S.wav: 0.2193375709300783\n",
      "PCC for WTW12_S.wav: 0.11075263905335639\n",
      "PCC for MTM1_S.wav: 0.2310468687220826\n",
      "PCC for MTM2_S.wav: 0.35267116901369394\n",
      "PCC for MTM3_S.wav: 0.18857930318598068\n",
      "PCC for MTM4_S.wav: -0.07592056423558112\n",
      "PCC for MTM5_S.wav: 0.2243904913365639\n",
      "PCC for MTM6_S.wav: 0.17775699265807143\n",
      "PCC for MTM7_S.wav: 0.07724619039344367\n",
      "PCC for MTM8_S.wav: 0.03089849802302408\n",
      "PCC for MTM9_S.wav: 0.13258490233252296\n",
      "PCC for MTM10_S.wav: -0.042042112448333474\n",
      "PCC for MTM11_S.wav: 0.11875038570413342\n",
      "PCC for MTM12_S.wav: 0.35716613034144334\n",
      "Invalid line format: \n",
      "\n",
      "\n",
      "Average F0 PCC: 0.12027799068964296\n"
     ]
    }
   ],
   "source": [
    "process_f0_pcc(mapping_file_path, original_base_path, generated_base_path)"
   ]
  },
  {
   "cell_type": "code",
   "execution_count": null,
   "id": "6d477502-30bb-4c4c-b347-6196289efc16",
   "metadata": {},
   "outputs": [],
   "source": []
  }
 ],
 "metadata": {
  "kernelspec": {
   "display_name": "FreeVC",
   "language": "python",
   "name": "freevc"
  },
  "language_info": {
   "codemirror_mode": {
    "name": "ipython",
    "version": 3
   },
   "file_extension": ".py",
   "mimetype": "text/x-python",
   "name": "python",
   "nbconvert_exporter": "python",
   "pygments_lexer": "ipython3",
   "version": "3.8.19"
  }
 },
 "nbformat": 4,
 "nbformat_minor": 5
}
