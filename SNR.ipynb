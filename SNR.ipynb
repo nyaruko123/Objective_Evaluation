{
 "cells": [
  {
   "cell_type": "code",
   "execution_count": 13,
   "id": "de25975d-3ef4-4dd6-94c3-4179be77484a",
   "metadata": {},
   "outputs": [],
   "source": [
    "import os\n",
    "import numpy as np\n",
    "import librosa"
   ]
  },
  {
   "cell_type": "code",
   "execution_count": 21,
   "id": "5555588a-0b0a-4159-bd1b-21e98260b916",
   "metadata": {},
   "outputs": [],
   "source": [
    "# 加载音频文件\n",
    "def load_wav(wavfile, sr=16000):\n",
    "    \"\"\"\n",
    "    加载音频文件并返回音频信号\n",
    "    \"\"\"\n",
    "    wav, _ = librosa.load(wavfile, sr=sr, mono=True)\n",
    "    return wav"
   ]
  },
  {
   "cell_type": "code",
   "execution_count": 11,
   "id": "fa9eca7d-064c-407f-9aee-718586c17ec8",
   "metadata": {},
   "outputs": [],
   "source": [
    "# 计算SNR\n",
    "def calculate_snr(reference_signal, generated_signal):\n",
    "    \"\"\"\n",
    "    计算信噪比（SNR）\n",
    "    reference_signal: 源语音信号\n",
    "    generated_signal: 生成语音信号\n",
    "    \"\"\"\n",
    "    # 确保两段音频长度相同\n",
    "    min_length = min(len(reference_signal), len(generated_signal))\n",
    "    reference_signal = reference_signal[:min_length]\n",
    "    generated_signal = generated_signal[:min_length]\n",
    "\n",
    "    # 计算噪声信号 (生成语音 - 源语音)\n",
    "    noise_signal = generated_signal - reference_signal\n",
    "\n",
    "    # 计算信号和噪声的功率\n",
    "    signal_power = np.mean(reference_signal ** 2)\n",
    "    noise_power = np.mean(noise_signal ** 2)\n",
    "\n",
    "    # 避免噪声功率为 0 的情况\n",
    "    if noise_power == 0:\n",
    "        return float('inf')  # 如果没有噪声，SNR 无穷大\n",
    "\n",
    "    # 计算 SNR\n",
    "    snr = 10 * np.log10(signal_power / noise_power)\n",
    "    return snr"
   ]
  },
  {
   "cell_type": "code",
   "execution_count": 14,
   "id": "d4edfc68-aea2-4e70-802b-c158b3ca5f7d",
   "metadata": {},
   "outputs": [],
   "source": [
    "# 主流程函数\n",
    "def process_snr(mapping_file_path, original_base_path, generated_base_path):\n",
    "    \"\"\"\n",
    "    从映射文件中提取源语音和转换语音，计算SNR\n",
    "    \"\"\"\n",
    "    total_snr = 0\n",
    "    count = 0\n",
    "\n",
    "    # 读取映射文件\n",
    "    with open(mapping_file_path, 'r') as f:\n",
    "        for line in f:\n",
    "            parts = line.strip().split('|')\n",
    "\n",
    "            # 检查是否有足够的字段\n",
    "            if len(parts) != 3:\n",
    "                print(f\"Invalid line format: {line}\")\n",
    "                continue\n",
    "\n",
    "            generated_wav, content_wav, _ = parts\n",
    "\n",
    "            # 构建音频文件路径\n",
    "            original_wav_path = os.path.join(original_base_path, content_wav)\n",
    "            generated_wav_path = os.path.join(generated_base_path, generated_wav)\n",
    "\n",
    "            # 加载源语音和生成语音\n",
    "            reference_signal = load_wav(original_wav_path)\n",
    "            generated_signal = load_wav(generated_wav_path)\n",
    "\n",
    "            # 计算当前文件的SNR\n",
    "            snr = calculate_snr(reference_signal, generated_signal)\n",
    "            print(f\"SNR for {generated_wav}: {snr} dB\")\n",
    "\n",
    "            total_snr += snr\n",
    "            count += 1\n",
    "\n",
    "    # 计算平均SNR\n",
    "    avg_snr = total_snr / count if count > 0 else float('inf')\n",
    "    print(f\"\\nAverage SNR: {avg_snr} dB\")"
   ]
  },
  {
   "cell_type": "code",
   "execution_count": 19,
   "id": "bcf56bdd-d055-43ee-90bc-7a599600374d",
   "metadata": {},
   "outputs": [],
   "source": [
    "# 示例用法\n",
    "mapping_file_path = '/home/sun/FreeVC/convert_S.txt'  # 更新后的转换文件路径\n",
    "original_base_path = '/home/sun/FreeVC/outputs/wav_o'  # 原始音频目录\n",
    "generated_base_path = '/home/sun/FreeVC/outputs/starganvc_test'  # 生成音频目录\n"
   ]
  },
  {
   "cell_type": "code",
   "execution_count": 23,
   "id": "3ae5d250-b28c-4fdb-a112-71864d7180c6",
   "metadata": {},
   "outputs": [
    {
     "name": "stdout",
     "output_type": "stream",
     "text": [
      "SNR for WTM1_S.wav: -2.859790325164795 dB\n",
      "SNR for WTM2_S.wav: -1.3938893377780914 dB\n",
      "SNR for WTM3_S.wav: -7.286527752876282 dB\n",
      "SNR for WTM4_S.wav: -1.1426932364702225 dB\n",
      "SNR for WTM5_S.wav: -1.2161889672279358 dB\n",
      "SNR for WTM6_S.wav: -6.1657702922821045 dB\n",
      "SNR for WTM7_S.wav: -0.24048374965786934 dB\n",
      "SNR for WTM8_S.wav: -1.4026466012001038 dB\n",
      "SNR for WTM9_S.wav: -9.14302110671997 dB\n",
      "SNR for WTM10_S.wav: -0.00085613333794754 dB\n",
      "SNR for WTM11_S.wav: -3.6637479066848755 dB\n",
      "SNR for WTM12_S.wav: -13.682726621627808 dB\n",
      "SNR for MTW1_S.wav: -0.0018957843712996691 dB\n",
      "SNR for MTW2_S.wav: -3.4106507897377014 dB\n",
      "SNR for MTW3_S.wav: -8.935068249702454 dB\n",
      "SNR for MTW4_S.wav: -3.9233511686325073 dB\n",
      "SNR for MTW5_S.wav: 0.0005849835361004807 dB\n",
      "SNR for MTW6_S.wav: -1.0006626695394516 dB\n",
      "SNR for MTW7_S.wav: -11.554882526397705 dB\n",
      "SNR for MTW8_S.wav: -7.237020134925842 dB\n",
      "SNR for MTW9_S.wav: -0.0023567801690660417 dB\n",
      "SNR for MTW10_S.wav: -1.3523423671722412 dB\n",
      "SNR for MTW11_S.wav: -4.316782653331757 dB\n",
      "SNR for MTW12_S.wav: -2.947535812854767 dB\n",
      "SNR for WTW1_S.wav: -2.9211848974227905 dB\n",
      "SNR for WTW2_S.wav: -5.75741171836853 dB\n",
      "SNR for WTW3_S.wav: -3.758942186832428 dB\n",
      "SNR for WTW4_S.wav: -0.021028558257967234 dB\n",
      "SNR for WTW5_S.wav: -5.640813708305359 dB\n",
      "SNR for WTW6_S.wav: -4.2914605140686035 dB\n",
      "SNR for WTW7_S.wav: -0.0015863230510149151 dB\n",
      "SNR for WTW8_S.wav: -1.3560524582862854 dB\n",
      "SNR for WTW9_S.wav: -7.088111639022827 dB\n",
      "SNR for WTW10_S.wav: 0.000374812661902979 dB\n",
      "SNR for WTW11_S.wav: -5.128952264785767 dB\n",
      "SNR for WTW12_S.wav: -8.064571619033813 dB\n",
      "SNR for MTM1_S.wav: -1.500089019536972 dB\n",
      "SNR for MTM2_S.wav: -8.784985542297363 dB\n",
      "SNR for MTM3_S.wav: -2.280057817697525 dB\n",
      "SNR for MTM4_S.wav: -0.007429411634802818 dB\n",
      "SNR for MTM5_S.wav: -6.660407781600952 dB\n",
      "SNR for MTM6_S.wav: -3.891163468360901 dB\n",
      "SNR for MTM7_S.wav: 0.0010580894740996882 dB\n",
      "SNR for MTM8_S.wav: -0.5941697582602501 dB\n",
      "SNR for MTM9_S.wav: -1.234760582447052 dB\n",
      "SNR for MTM10_S.wav: -0.003914945991709828 dB\n",
      "SNR for MTM11_S.wav: -2.2602543234825134 dB\n",
      "SNR for MTM12_S.wav: -9.658270478248596 dB\n",
      "Invalid line format: \n",
      "\n",
      "\n",
      "Average SNR: -3.620510252066348 dB\n"
     ]
    }
   ],
   "source": [
    "process_snr(mapping_file_path, original_base_path, generated_base_path)"
   ]
  },
  {
   "cell_type": "code",
   "execution_count": null,
   "id": "d61ef5d2-8dbd-4991-85f7-1c85609b5ee5",
   "metadata": {},
   "outputs": [],
   "source": []
  }
 ],
 "metadata": {
  "kernelspec": {
   "display_name": "FreeVC",
   "language": "python",
   "name": "freevc"
  },
  "language_info": {
   "codemirror_mode": {
    "name": "ipython",
    "version": 3
   },
   "file_extension": ".py",
   "mimetype": "text/x-python",
   "name": "python",
   "nbconvert_exporter": "python",
   "pygments_lexer": "ipython3",
   "version": "3.8.19"
  }
 },
 "nbformat": 4,
 "nbformat_minor": 5
}
