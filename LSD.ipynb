{
 "cells": [
  {
   "cell_type": "code",
   "execution_count": 1,
   "id": "32b64b7f-0a86-4c63-8d2d-e49882c0f0c0",
   "metadata": {},
   "outputs": [],
   "source": [
    "import os\n",
    "import numpy as np\n",
    "import librosa"
   ]
  },
  {
   "cell_type": "code",
   "execution_count": 2,
   "id": "c2479689-58ed-4c05-85f8-66380fdefec7",
   "metadata": {},
   "outputs": [],
   "source": [
    "# 加载音频文件\n",
    "def load_wav(wavfile, sr=16000):\n",
    "    \"\"\"\n",
    "    加载音频文件并返回音频信号\n",
    "    \"\"\"\n",
    "    wav, _ = librosa.load(wavfile, sr=sr, mono=True)\n",
    "    return wav"
   ]
  },
  {
   "cell_type": "code",
   "execution_count": 3,
   "id": "f3f01c50-0620-4425-855a-98a9bdcb1e88",
   "metadata": {},
   "outputs": [],
   "source": [
    "# 提取对数频谱\n",
    "def extract_log_spectrum(wavfile, sr=16000, n_fft=1024, hop_length=512):\n",
    "    \"\"\"\n",
    "    提取音频的对数频谱\n",
    "    \"\"\"\n",
    "    wav = load_wav(wavfile, sr)\n",
    "    # 计算短时傅里叶变换（STFT）\n",
    "    stft = np.abs(librosa.stft(wav, n_fft=n_fft, hop_length=hop_length)) ** 2\n",
    "    # 计算功率谱密度\n",
    "    power_spectrum = np.maximum(stft, 1e-10)  # 避免 log(0)\n",
    "    # 计算对数频谱\n",
    "    log_spectrum = 10 * np.log10(power_spectrum)\n",
    "    return log_spectrum"
   ]
  },
  {
   "cell_type": "code",
   "execution_count": 4,
   "id": "92ed1cf2-b989-4bf1-bd81-be787bcdba4d",
   "metadata": {},
   "outputs": [],
   "source": [
    "# 计算LSD\n",
    "def calculate_lsd(log_spec_ref, log_spec_pred):\n",
    "    \"\"\"\n",
    "    计算对数频谱距离 (LSD)\n",
    "    log_spec_ref: 源音频的对数频谱\n",
    "    log_spec_pred: 生成音频的对数频谱\n",
    "    \"\"\"\n",
    "    # 确保频谱的时间帧数相同\n",
    "    min_length = min(log_spec_ref.shape[1], log_spec_pred.shape[1])\n",
    "    log_spec_ref = log_spec_ref[:, :min_length]\n",
    "    log_spec_pred = log_spec_pred[:, :min_length]\n",
    "\n",
    "    # 计算每帧对数频谱之间的差异\n",
    "    lsd = np.sqrt(np.mean((log_spec_ref - log_spec_pred) ** 2, axis=0))\n",
    "    # 取平均 LSD\n",
    "    return np.mean(lsd)\n"
   ]
  },
  {
   "cell_type": "code",
   "execution_count": 5,
   "id": "6a4de02b-631b-4eb1-808e-dcf76ea21647",
   "metadata": {},
   "outputs": [],
   "source": [
    "# 主流程函数\n",
    "def process_lsd(mapping_file_path, original_base_path, generated_base_path):\n",
    "    \"\"\"\n",
    "    从映射文件中提取源语音和转换语音，计算LSD\n",
    "    \"\"\"\n",
    "    total_lsd = 0\n",
    "    count = 0\n",
    "\n",
    "    # 读取映射文件\n",
    "    with open(mapping_file_path, 'r') as f:\n",
    "        for line in f:\n",
    "            parts = line.strip().split('|')\n",
    "\n",
    "            # 检查是否有足够的字段\n",
    "            if len(parts) != 3:\n",
    "                print(f\"Invalid line format: {line}\")\n",
    "                continue\n",
    "\n",
    "            generated_wav, content_wav, _ = parts\n",
    "\n",
    "            # 构建音频文件路径\n",
    "            original_wav_path = os.path.join(original_base_path, content_wav)\n",
    "            generated_wav_path = os.path.join(generated_base_path, generated_wav)\n",
    "\n",
    "            # 提取对数频谱\n",
    "            log_spec_ref = extract_log_spectrum(original_wav_path, sr=16000)\n",
    "            log_spec_pred = extract_log_spectrum(generated_wav_path, sr=16000)\n",
    "\n",
    "            # 计算当前文件的LSD\n",
    "            lsd = calculate_lsd(log_spec_ref, log_spec_pred)\n",
    "            print(f\"LSD for {generated_wav}: {lsd} dB\")\n",
    "\n",
    "            total_lsd += lsd\n",
    "            count += 1\n",
    "\n",
    "    # 计算平均LSD\n",
    "    avg_lsd = total_lsd / count if count > 0 else float('inf')\n",
    "    print(f\"\\nAverage LSD: {avg_lsd} dB\")"
   ]
  },
  {
   "cell_type": "code",
   "execution_count": 10,
   "id": "0a240114-0008-4437-8d95-0805b17fffa9",
   "metadata": {},
   "outputs": [],
   "source": [
    "# 示例用法\n",
    "mapping_file_path = '/home/sun/FreeVC/convert_S.txt'  # 更新后的转换文件路径\n",
    "original_base_path = '/home/sun/FreeVC/outputs/wav_o'  # 原始音频目录\n",
    "generated_base_path = '/home/sun/FreeVC/outputs/starganvc_test'  # 生成音频目录"
   ]
  },
  {
   "cell_type": "code",
   "execution_count": 11,
   "id": "723bd67a-c777-4519-98a8-b94049678601",
   "metadata": {},
   "outputs": [
    {
     "name": "stdout",
     "output_type": "stream",
     "text": [
      "LSD for WTM1_S.wav: 22.67380142211914 dB\n",
      "LSD for WTM2_S.wav: 28.03598976135254 dB\n",
      "LSD for WTM3_S.wav: 24.063777923583984 dB\n",
      "LSD for WTM4_S.wav: 31.461599349975586 dB\n",
      "LSD for WTM5_S.wav: 30.492700576782227 dB\n",
      "LSD for WTM6_S.wav: 23.574342727661133 dB\n",
      "LSD for WTM7_S.wav: 37.937381744384766 dB\n",
      "LSD for WTM8_S.wav: 27.961679458618164 dB\n",
      "LSD for WTM9_S.wav: 26.390592575073242 dB\n",
      "LSD for WTM10_S.wav: 32.9006462097168 dB\n",
      "LSD for WTM11_S.wav: 25.551027297973633 dB\n",
      "LSD for WTM12_S.wav: 25.804893493652344 dB\n",
      "LSD for MTW1_S.wav: 28.983755111694336 dB\n",
      "LSD for MTW2_S.wav: 19.2847900390625 dB\n",
      "LSD for MTW3_S.wav: 22.541080474853516 dB\n",
      "LSD for MTW4_S.wav: 24.247896194458008 dB\n",
      "LSD for MTW5_S.wav: 35.6830940246582 dB\n",
      "LSD for MTW6_S.wav: 25.76902961730957 dB\n",
      "LSD for MTW7_S.wav: 25.161949157714844 dB\n",
      "LSD for MTW8_S.wav: 22.414928436279297 dB\n",
      "LSD for MTW9_S.wav: 40.7855224609375 dB\n",
      "LSD for MTW10_S.wav: 28.969688415527344 dB\n",
      "LSD for MTW11_S.wav: 27.508275985717773 dB\n",
      "LSD for MTW12_S.wav: 23.376008987426758 dB\n",
      "LSD for WTW1_S.wav: 22.106698989868164 dB\n",
      "LSD for WTW2_S.wav: 25.65275764465332 dB\n",
      "LSD for WTW3_S.wav: 22.028162002563477 dB\n",
      "LSD for WTW4_S.wav: 36.82805633544922 dB\n",
      "LSD for WTW5_S.wav: 28.9663028717041 dB\n",
      "LSD for WTW6_S.wav: 22.758901596069336 dB\n",
      "LSD for WTW7_S.wav: 34.85858154296875 dB\n",
      "LSD for WTW8_S.wav: 25.02961540222168 dB\n",
      "LSD for WTW9_S.wav: 24.937807083129883 dB\n",
      "LSD for WTW10_S.wav: 31.368494033813477 dB\n",
      "LSD for WTW11_S.wav: 21.598573684692383 dB\n",
      "LSD for WTW12_S.wav: 24.080228805541992 dB\n",
      "LSD for MTM1_S.wav: 19.968481063842773 dB\n",
      "LSD for MTM2_S.wav: 22.693775177001953 dB\n",
      "LSD for MTM3_S.wav: 21.358495712280273 dB\n",
      "LSD for MTM4_S.wav: 32.34080505371094 dB\n",
      "LSD for MTM5_S.wav: 25.20083999633789 dB\n",
      "LSD for MTM6_S.wav: 22.726863861083984 dB\n",
      "LSD for MTM7_S.wav: 44.076011657714844 dB\n",
      "LSD for MTM8_S.wav: 29.3238468170166 dB\n",
      "LSD for MTM9_S.wav: 25.132829666137695 dB\n",
      "LSD for MTM10_S.wav: 35.853782653808594 dB\n",
      "LSD for MTM11_S.wav: 31.314254760742188 dB\n",
      "LSD for MTM12_S.wav: 24.87822914123535 dB\n",
      "Invalid line format: \n",
      "\n",
      "\n",
      "Average LSD: 27.43035097916921 dB\n"
     ]
    }
   ],
   "source": [
    "process_lsd(mapping_file_path, original_base_path, generated_base_path)"
   ]
  },
  {
   "cell_type": "code",
   "execution_count": null,
   "id": "d4814cc1-9462-49fb-a03a-ff37ab24b571",
   "metadata": {},
   "outputs": [],
   "source": []
  }
 ],
 "metadata": {
  "kernelspec": {
   "display_name": "FreeVC",
   "language": "python",
   "name": "freevc"
  },
  "language_info": {
   "codemirror_mode": {
    "name": "ipython",
    "version": 3
   },
   "file_extension": ".py",
   "mimetype": "text/x-python",
   "name": "python",
   "nbconvert_exporter": "python",
   "pygments_lexer": "ipython3",
   "version": "3.8.19"
  }
 },
 "nbformat": 4,
 "nbformat_minor": 5
}
